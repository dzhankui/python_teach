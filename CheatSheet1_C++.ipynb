{
 "cells": [
  {
   "cell_type": "markdown",
   "metadata": {},
   "source": [
    "<h1>Ключевые навыки:"
   ]
  },
  {
   "cell_type": "markdown",
   "metadata": {},
   "source": [
    "1. Работа с переменными и операторами\n",
    "\n",
    "2. Использование условий (if-else, switch)\n",
    "\n",
    "3. Организация циклов (for)\n",
    "\n",
    "4. Создание и вызов функций\n",
    "\n",
    "5. Обработка пользовательского ввода\n",
    "\n",
    "6. Базовая валидация данных (деление на ноль)"
   ]
  },
  {
   "cell_type": "markdown",
   "metadata": {},
   "source": [
    "<h1> Основные правила C++"
   ]
  },
  {
   "cell_type": "markdown",
   "metadata": {},
   "source": [
    "1. Всегда инициализируйте переменные.\n",
    "\n",
    "2. Используйте #include <iostream> для ввода/вывода.\n",
    "\n",
    "3. Избегайте using namespace std; в больших проектах (лучше std::cout).\n",
    "\n",
    "4. Проверяйте пользовательский ввод на корректность.\n",
    "\n",
    "5. Компиляция: g++ program.cpp -o program → ./program."
   ]
  },
  {
   "cell_type": "markdown",
   "metadata": {},
   "source": [
    "<h4>1. Работа с переменными и операторами"
   ]
  },
  {
   "cell_type": "markdown",
   "metadata": {},
   "source": [
    "```c++\n",
    "#include <iostream>  \n",
    "using namespace std;  \n",
    "\n",
    "int main() {  \n",
    "  // Объявление переменных  \n",
    "  int age = 25;  \n",
    "  double price = 99.95;  \n",
    "  char grade = 'A';  \n",
    "  string name = \"Alice\";  \n",
    "  bool is_active = true;  \n",
    "\n",
    "  // Операторы  \n",
    "  int sum = 10 + 5;      // 15  \n",
    "  int diff = 10 - 5;     // 5  \n",
    "  int product = 10 * 5;  // 50  \n",
    "  double quotient = 10.0 / 3; // 3.333...  \n",
    "\n",
    "  cout << \"Name: \" << name << \", Age: \" << age;  \n",
    "  return 0;  \n",
    "}  ```"
   ]
  },
  {
   "cell_type": "markdown",
   "metadata": {},
   "source": [
    "<h4>2. Использование условий"
   ]
  },
  {
   "cell_type": "markdown",
   "metadata": {},
   "source": [
    "**if-else**"
   ]
  },
  {
   "cell_type": "markdown",
   "metadata": {},
   "source": [
    "```c++\n",
    "int number = -5;  \n",
    "\n",
    "if (number > 0) {  \n",
    "  cout << \"Positive\";  \n",
    "} else if (number < 0) {  \n",
    "  cout << \"Negative\";  \n",
    "} else {  \n",
    "  cout << \"Zero\";  \n",
    "}  ```"
   ]
  },
  {
   "cell_type": "markdown",
   "metadata": {},
   "source": [
    "**switch**"
   ]
  },
  {
   "cell_type": "markdown",
   "metadata": {},
   "source": [
    "```c++\n",
    "int day = 3;  \n",
    "\n",
    "switch(day) {  \n",
    "  case 1: cout << \"Monday\"; break;  \n",
    "  case 2: cout << \"Tuesday\"; break;  \n",
    "  case 3: cout << \"Wednesday\"; break; // Выведет \"Wednesday\"  \n",
    "  default: cout << \"Invalid day\";  \n",
    "} ``` "
   ]
  },
  {
   "cell_type": "markdown",
   "metadata": {},
   "source": [
    "<h4>3. Организация циклов (for)"
   ]
  },
  {
   "cell_type": "markdown",
   "metadata": {},
   "source": [
    "```c++\n",
    "// Вывести числа от 1 до 5  \n",
    "for (int i = 1; i <= 5; i++) {  \n",
    "  cout << i << \" \";  // 1 2 3 4 5  \n",
    "}  \n",
    "\n",
    "// Итерация по массиву  \n",
    "string colors[] = {\"Red\", \"Green\", \"Blue\"};  \n",
    "for (int j = 0; j < 3; j++) {  \n",
    "  cout << colors[j] << \" \";  // Red Green Blue  \n",
    "} ``` "
   ]
  },
  {
   "cell_type": "markdown",
   "metadata": {},
   "source": [
    "<h4>4. Создание и вызов функций"
   ]
  },
  {
   "cell_type": "markdown",
   "metadata": {},
   "source": [
    "```c++\n",
    "// Объявление функции  \n",
    "int add(int a, int b) {  \n",
    "  return a + b;  \n",
    "}  \n",
    "\n",
    "int main() {  \n",
    "  // Вызов функции  \n",
    "  int result = add(7, 3);  // 10  \n",
    "  cout << \"Sum: \" << result;  \n",
    "  return 0;  \n",
    "}\n",
    "```  "
   ]
  },
  {
   "cell_type": "markdown",
   "metadata": {},
   "source": [
    "<h4>5. Обработка пользовательского ввода"
   ]
  },
  {
   "cell_type": "markdown",
   "metadata": {},
   "source": [
    "```c++\n",
    "#include <iostream>  \n",
    "#include <string>  \n",
    "using namespace std;  \n",
    "\n",
    "int main() {  \n",
    "  int age;  \n",
    "  string name;  \n",
    "\n",
    "  cout << \"Enter your name: \";  \n",
    "  getline(cin, name);  // Чтение строки  \n",
    "\n",
    "  cout << \"Enter your age: \";  \n",
    "  cin >> age;          // Чтение числа  \n",
    "\n",
    "  cout << \"Hello, \" << name << \"! You are \" << age << \" years old.\";  \n",
    "  return 0;  \n",
    "}  \n",
    "```\n",
    "\n"
   ]
  },
  {
   "cell_type": "markdown",
   "metadata": {},
   "source": []
  }
 ],
 "metadata": {
  "kernelspec": {
   "display_name": "base",
   "language": "python",
   "name": "python3"
  },
  "language_info": {
   "name": "python",
   "version": "3.11.5"
  }
 },
 "nbformat": 4,
 "nbformat_minor": 2
}
